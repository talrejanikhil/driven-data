{
 "cells": [
  {
   "cell_type": "markdown",
   "metadata": {
    "collapsed": true,
    "pycharm": {
     "is_executing": false,
     "name": "#%% md\n"
    }
   },
   "source": [
    "Submission for heart-disease prediction program "
   ]
  },
  {
   "cell_type": "code",
   "execution_count": 14,
   "outputs": [],
   "source": [
    "import pandas as pd\n",
    "import numpy as np\n",
    "from sklearn.linear_model import LogisticRegression\n",
    "from sklearn.metrics import log_loss\n",
    "from sklearn.model_selection import train_test_split, GridSearchCV\n",
    "from sklearn.pipeline import Pipeline\n",
    "from sklearn.preprocessing import StandardScaler"
   ],
   "metadata": {
    "collapsed": false,
    "pycharm": {
     "name": "#%%\n",
     "is_executing": false
    }
   }
  },
  {
   "cell_type": "code",
   "execution_count": 7,
   "outputs": [],
   "source": [
    "# functions to one hot encode\n",
    "def categorize_label(x):\n",
    "    return x.astype('category')\n",
    "\n",
    "def one_hot_encode(df):\n",
    "    if 'thal' in df.columns:\n",
    "        df[['thal']] = df[['thal']].apply(categorize_label, axis=0)\n",
    "        return pd.get_dummies(df, drop_first=True)\n",
    "    return df"
   ],
   "metadata": {
    "collapsed": false,
    "pycharm": {
     "name": "#%%\n",
     "is_executing": false
    }
   }
  },
  {
   "cell_type": "code",
   "execution_count": 8,
   "outputs": [
    {
     "data": {
      "text/plain": "            slope_of_peak_exercise_st_segment               thal  \\\npatient_id                                                         \n0z64un                                      1             normal   \nryoo3j                                      2             normal   \nyt1s1x                                      1             normal   \nl2xjde                                      1  reversible_defect   \noyt4ek                                      3  reversible_defect   \n\n            resting_blood_pressure  chest_pain_type  num_major_vessels  \\\npatient_id                                                               \n0z64un                         128                2                  0   \nryoo3j                         110                3                  0   \nyt1s1x                         125                4                  3   \nl2xjde                         152                4                  0   \noyt4ek                         178                1                  0   \n\n            fasting_blood_sugar_gt_120_mg_per_dl  resting_ekg_results  \\\npatient_id                                                              \n0z64un                                         0                    2   \nryoo3j                                         0                    0   \nyt1s1x                                         0                    2   \nl2xjde                                         0                    0   \noyt4ek                                         0                    2   \n\n            serum_cholesterol_mg_per_dl  oldpeak_eq_st_depression  sex  age  \\\npatient_id                                                                    \n0z64un                              308                       0.0    1   45   \nryoo3j                              214                       1.6    0   54   \nyt1s1x                              304                       0.0    1   77   \nl2xjde                              223                       0.0    1   40   \noyt4ek                              270                       4.2    1   59   \n\n            max_heart_rate_achieved  exercise_induced_angina  \npatient_id                                                    \n0z64un                          170                        0  \nryoo3j                          158                        0  \nyt1s1x                          162                        1  \nl2xjde                          181                        0  \noyt4ek                          145                        0  ",
      "text/html": "<div>\n<style scoped>\n    .dataframe tbody tr th:only-of-type {\n        vertical-align: middle;\n    }\n\n    .dataframe tbody tr th {\n        vertical-align: top;\n    }\n\n    .dataframe thead th {\n        text-align: right;\n    }\n</style>\n<table border=\"1\" class=\"dataframe\">\n  <thead>\n    <tr style=\"text-align: right;\">\n      <th></th>\n      <th>slope_of_peak_exercise_st_segment</th>\n      <th>thal</th>\n      <th>resting_blood_pressure</th>\n      <th>chest_pain_type</th>\n      <th>num_major_vessels</th>\n      <th>fasting_blood_sugar_gt_120_mg_per_dl</th>\n      <th>resting_ekg_results</th>\n      <th>serum_cholesterol_mg_per_dl</th>\n      <th>oldpeak_eq_st_depression</th>\n      <th>sex</th>\n      <th>age</th>\n      <th>max_heart_rate_achieved</th>\n      <th>exercise_induced_angina</th>\n    </tr>\n    <tr>\n      <th>patient_id</th>\n      <th></th>\n      <th></th>\n      <th></th>\n      <th></th>\n      <th></th>\n      <th></th>\n      <th></th>\n      <th></th>\n      <th></th>\n      <th></th>\n      <th></th>\n      <th></th>\n      <th></th>\n    </tr>\n  </thead>\n  <tbody>\n    <tr>\n      <th>0z64un</th>\n      <td>1</td>\n      <td>normal</td>\n      <td>128</td>\n      <td>2</td>\n      <td>0</td>\n      <td>0</td>\n      <td>2</td>\n      <td>308</td>\n      <td>0.0</td>\n      <td>1</td>\n      <td>45</td>\n      <td>170</td>\n      <td>0</td>\n    </tr>\n    <tr>\n      <th>ryoo3j</th>\n      <td>2</td>\n      <td>normal</td>\n      <td>110</td>\n      <td>3</td>\n      <td>0</td>\n      <td>0</td>\n      <td>0</td>\n      <td>214</td>\n      <td>1.6</td>\n      <td>0</td>\n      <td>54</td>\n      <td>158</td>\n      <td>0</td>\n    </tr>\n    <tr>\n      <th>yt1s1x</th>\n      <td>1</td>\n      <td>normal</td>\n      <td>125</td>\n      <td>4</td>\n      <td>3</td>\n      <td>0</td>\n      <td>2</td>\n      <td>304</td>\n      <td>0.0</td>\n      <td>1</td>\n      <td>77</td>\n      <td>162</td>\n      <td>1</td>\n    </tr>\n    <tr>\n      <th>l2xjde</th>\n      <td>1</td>\n      <td>reversible_defect</td>\n      <td>152</td>\n      <td>4</td>\n      <td>0</td>\n      <td>0</td>\n      <td>0</td>\n      <td>223</td>\n      <td>0.0</td>\n      <td>1</td>\n      <td>40</td>\n      <td>181</td>\n      <td>0</td>\n    </tr>\n    <tr>\n      <th>oyt4ek</th>\n      <td>3</td>\n      <td>reversible_defect</td>\n      <td>178</td>\n      <td>1</td>\n      <td>0</td>\n      <td>0</td>\n      <td>2</td>\n      <td>270</td>\n      <td>4.2</td>\n      <td>1</td>\n      <td>59</td>\n      <td>145</td>\n      <td>0</td>\n    </tr>\n  </tbody>\n</table>\n</div>"
     },
     "metadata": {},
     "output_type": "execute_result",
     "execution_count": 8
    }
   ],
   "source": [
    "# train values\n",
    "train_values = pd.read_csv('train_values.csv', index_col='patient_id')\n",
    "train_labels = pd.read_csv('train_labels.csv', index_col='patient_id')\n",
    "train_values.head()"
   ],
   "metadata": {
    "collapsed": false,
    "pycharm": {
     "name": "#%%\n",
     "is_executing": false
    }
   }
  },
  {
   "cell_type": "code",
   "execution_count": 9,
   "outputs": [
    {
     "data": {
      "text/plain": "            resting_blood_pressure  chest_pain_type  num_major_vessels  \\\npatient_id                                                               \n0z64un                         128                2                  0   \nryoo3j                         110                3                  0   \nyt1s1x                         125                4                  3   \nl2xjde                         152                4                  0   \noyt4ek                         178                1                  0   \n\n            resting_ekg_results  serum_cholesterol_mg_per_dl  \\\npatient_id                                                     \n0z64un                        2                          308   \nryoo3j                        0                          214   \nyt1s1x                        2                          304   \nl2xjde                        0                          223   \noyt4ek                        2                          270   \n\n            oldpeak_eq_st_depression  sex  age  max_heart_rate_achieved  \\\npatient_id                                                                \n0z64un                           0.0    1   45                      170   \nryoo3j                           1.6    0   54                      158   \nyt1s1x                           0.0    1   77                      162   \nl2xjde                           0.0    1   40                      181   \noyt4ek                           4.2    1   59                      145   \n\n            exercise_induced_angina  thal_normal  thal_reversible_defect  \npatient_id                                                                \n0z64un                            0            1                       0  \nryoo3j                            0            1                       0  \nyt1s1x                            1            1                       0  \nl2xjde                            0            0                       1  \noyt4ek                            0            0                       1  ",
      "text/html": "<div>\n<style scoped>\n    .dataframe tbody tr th:only-of-type {\n        vertical-align: middle;\n    }\n\n    .dataframe tbody tr th {\n        vertical-align: top;\n    }\n\n    .dataframe thead th {\n        text-align: right;\n    }\n</style>\n<table border=\"1\" class=\"dataframe\">\n  <thead>\n    <tr style=\"text-align: right;\">\n      <th></th>\n      <th>resting_blood_pressure</th>\n      <th>chest_pain_type</th>\n      <th>num_major_vessels</th>\n      <th>resting_ekg_results</th>\n      <th>serum_cholesterol_mg_per_dl</th>\n      <th>oldpeak_eq_st_depression</th>\n      <th>sex</th>\n      <th>age</th>\n      <th>max_heart_rate_achieved</th>\n      <th>exercise_induced_angina</th>\n      <th>thal_normal</th>\n      <th>thal_reversible_defect</th>\n    </tr>\n    <tr>\n      <th>patient_id</th>\n      <th></th>\n      <th></th>\n      <th></th>\n      <th></th>\n      <th></th>\n      <th></th>\n      <th></th>\n      <th></th>\n      <th></th>\n      <th></th>\n      <th></th>\n      <th></th>\n    </tr>\n  </thead>\n  <tbody>\n    <tr>\n      <th>0z64un</th>\n      <td>128</td>\n      <td>2</td>\n      <td>0</td>\n      <td>2</td>\n      <td>308</td>\n      <td>0.0</td>\n      <td>1</td>\n      <td>45</td>\n      <td>170</td>\n      <td>0</td>\n      <td>1</td>\n      <td>0</td>\n    </tr>\n    <tr>\n      <th>ryoo3j</th>\n      <td>110</td>\n      <td>3</td>\n      <td>0</td>\n      <td>0</td>\n      <td>214</td>\n      <td>1.6</td>\n      <td>0</td>\n      <td>54</td>\n      <td>158</td>\n      <td>0</td>\n      <td>1</td>\n      <td>0</td>\n    </tr>\n    <tr>\n      <th>yt1s1x</th>\n      <td>125</td>\n      <td>4</td>\n      <td>3</td>\n      <td>2</td>\n      <td>304</td>\n      <td>0.0</td>\n      <td>1</td>\n      <td>77</td>\n      <td>162</td>\n      <td>1</td>\n      <td>1</td>\n      <td>0</td>\n    </tr>\n    <tr>\n      <th>l2xjde</th>\n      <td>152</td>\n      <td>4</td>\n      <td>0</td>\n      <td>0</td>\n      <td>223</td>\n      <td>0.0</td>\n      <td>1</td>\n      <td>40</td>\n      <td>181</td>\n      <td>0</td>\n      <td>0</td>\n      <td>1</td>\n    </tr>\n    <tr>\n      <th>oyt4ek</th>\n      <td>178</td>\n      <td>1</td>\n      <td>0</td>\n      <td>2</td>\n      <td>270</td>\n      <td>4.2</td>\n      <td>1</td>\n      <td>59</td>\n      <td>145</td>\n      <td>0</td>\n      <td>0</td>\n      <td>1</td>\n    </tr>\n  </tbody>\n</table>\n</div>"
     },
     "metadata": {},
     "output_type": "execute_result",
     "execution_count": 9
    }
   ],
   "source": [
    "# drop less important columns\n",
    "to_drop = ['fasting_blood_sugar_gt_120_mg_per_dl', 'slope_of_peak_exercise_st_segment']\n",
    "train_values = train_values.drop(to_drop, axis=1)\n",
    "train_values = one_hot_encode(train_values)\n",
    "train_values.head()"
   ],
   "metadata": {
    "collapsed": false,
    "pycharm": {
     "name": "#%%\n",
     "is_executing": false
    }
   }
  },
  {
   "cell_type": "code",
   "execution_count": 12,
   "outputs": [
    {
     "name": "stdout",
     "text": [
      "Log Loss score 0.3401689043685209\n"
     ],
     "output_type": "stream"
    }
   ],
   "source": [
    "# pipeline to train and fit model\n",
    "pipe = Pipeline(steps=[('scale', StandardScaler()),\n",
    "                       ('logistic', LogisticRegression(solver='liblinear'))])\n",
    "\n",
    "param_grid = {'logistic__C': [0.0001, 0.001, 0.01, 1, 10],\n",
    "              'logistic__penalty': ['l2'],\n",
    "              'logistic__solver': ['liblinear', 'lbfgs']}\n",
    "cv = GridSearchCV(pipe, param_grid, scoring='neg_log_loss', cv=10, iid=False)\n",
    "X = train_values\n",
    "y = train_labels.heart_disease_present\n",
    "x_train, x_test, y_train, y_test = train_test_split(X, y,\n",
    "                                                    test_size=0.3, random_state=42, stratify=y)\n",
    "cv.fit(x_train, y_train)\n",
    "\n",
    "in_sample_preds = np.round(cv.predict_proba(x_test), decimals=2)\n",
    "print('Log Loss score {}'.format(log_loss(y_test, in_sample_preds)))"
   ],
   "metadata": {
    "collapsed": false,
    "pycharm": {
     "name": "#%%\n",
     "is_executing": false
    }
   }
  },
  {
   "cell_type": "code",
   "execution_count": 15,
   "outputs": [
    {
     "name": "stdout",
     "text": [
      "            heart_disease_present\npatient_id                       \nolalu7                       0.20\nz9n6mx                       0.07\n5k4413                       0.95\nmrg7q5                       0.05\nuki4do                       0.93\n"
     ],
     "output_type": "stream"
    }
   ],
   "source": [
    "# create submission\n",
    "test_values = pd.read_csv('test_values.csv', index_col='patient_id')\n",
    "test_values_subset = test_values.drop(to_drop, axis=1)\n",
    "test_values_subset = one_hot_encode(test_values_subset)\n",
    "cv.fit(X, y)\n",
    "predictions = np.round(cv.predict_proba(test_values_subset)[:, 1], decimals=2)\n",
    "submission_format = pd.read_csv('submission_format.csv', index_col='patient_id')\n",
    "my_submission = pd.DataFrame(data=predictions,\n",
    "                             columns=submission_format.columns,\n",
    "                             index=submission_format.index)\n",
    "my_submission.to_csv('submission.csv')\n",
    "print(my_submission.head())\n"
   ],
   "metadata": {
    "collapsed": false,
    "pycharm": {
     "name": "#%%\n",
     "is_executing": false
    }
   }
  }
 ],
 "metadata": {
  "language_info": {
   "codemirror_mode": {
    "name": "ipython",
    "version": 2
   },
   "file_extension": ".py",
   "mimetype": "text/x-python",
   "name": "python",
   "nbconvert_exporter": "python",
   "pygments_lexer": "ipython2",
   "version": "2.7.6"
  },
  "kernelspec": {
   "name": "python3",
   "language": "python",
   "display_name": "Python 3"
  },
  "pycharm": {
   "stem_cell": {
    "cell_type": "raw",
    "source": [],
    "metadata": {
     "collapsed": false
    }
   }
  }
 },
 "nbformat": 4,
 "nbformat_minor": 0
}